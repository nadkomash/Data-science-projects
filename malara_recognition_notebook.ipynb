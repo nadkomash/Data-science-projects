{
  "nbformat": 4,
  "nbformat_minor": 0,
  "metadata": {
    "colab": {
      "provenance": [],
      "authorship_tag": "ABX9TyNhhinIYUmsYcMm7IMtiPeh",
      "include_colab_link": true
    },
    "kernelspec": {
      "name": "python3",
      "display_name": "Python 3"
    },
    "language_info": {
      "name": "python"
    }
  },
  "cells": [
    {
      "cell_type": "markdown",
      "metadata": {
        "id": "view-in-github",
        "colab_type": "text"
      },
      "source": [
        "<a href=\"https://colab.research.google.com/github/nadkomash/malaria_recognition/blob/main/malara_recognition_notebook.ipynb\" target=\"_parent\"><img src=\"https://colab.research.google.com/assets/colab-badge.svg\" alt=\"Open In Colab\"/></a>"
      ]
    },
    {
      "cell_type": "markdown",
      "source": [],
      "metadata": {
        "id": "HJXJHvv-fsum"
      }
    },
    {
      "cell_type": "code",
      "execution_count": 2,
      "metadata": {
        "id": "wtwKIODwfU0J"
      },
      "outputs": [],
      "source": [
        "import numpy as np\n",
        "import tensorflow as tf\n",
        "import tensorflow_datasets as tfds\n",
        "from skimage.transform import resize\n",
        "\n"
      ]
    },
    {
      "cell_type": "markdown",
      "source": [
        "Loading data from tfds"
      ],
      "metadata": {
        "id": "2q63F_JN_Qdr"
      }
    },
    {
      "cell_type": "code",
      "source": [
        "malaria, info = tfds.load('malaria',split='train[:2500]',with_info=True)\n",
        "fig = tfds.show_examples(malaria,info)\n"
      ],
      "metadata": {
        "id": "05hFBpLLfgmZ"
      },
      "execution_count": null,
      "outputs": []
    },
    {
      "cell_type": "markdown",
      "source": [
        "Logistic Regression on data"
      ],
      "metadata": {
        "id": "kxApNoiJ_Mtu"
      }
    },
    {
      "cell_type": "code",
      "source": [
        "from sklearn.model_selection import train_test_split\n",
        "from sklearn.linear_model import LogisticRegression"
      ],
      "metadata": {
        "id": "-FOyi1O61xWF"
      },
      "execution_count": null,
      "outputs": []
    },
    {
      "cell_type": "markdown",
      "source": [
        "converting to numpy array , resizing and flattenining."
      ],
      "metadata": {
        "id": "VoEz563a_UL8"
      }
    },
    {
      "cell_type": "code",
      "source": [
        "images = []\n",
        "labels =[]\n",
        "for example in tfds.as_numpy(malaria):\n",
        "  images.append(resize(example['image'],(100,100)))\n",
        "  labels.append(example['label'])\n",
        "  if len(images)==2500:\n",
        "    break\n",
        "\n",
        "X = np.array(images)\n",
        "y = np.array(labels)\n",
        "\n",
        "X_train , X_test , y_train , y_test = train_test_split(X,y,test_size=0.20,random_state=42)\n",
        "\n",
        "X_train = X_train.flatten().reshape((X_train.shape[0],-1))\n",
        "X_test = X_test.flatten().reshape((X_test.shape[0],-1))\n",
        "\n",
        "print(X_train.shape)\n",
        "print(X_test.shape)\n",
        "\n"
      ],
      "metadata": {
        "id": "uTPwKpXg2GpI"
      },
      "execution_count": null,
      "outputs": []
    },
    {
      "cell_type": "code",
      "source": [
        "lr = LogisticRegression(max_iter=1000,random_state=42)\n",
        "lr = lr.fit(X_train,y_train)\n",
        "test_acc = lr.score(X_test,y_test)\n",
        "print(f'Test Accuracy for Logistic Regression : {test_acc:.3f}')\n"
      ],
      "metadata": {
        "id": "IN3vLqMT2c-J"
      },
      "execution_count": null,
      "outputs": []
    },
    {
      "cell_type": "markdown",
      "source": [
        "modeling with keras NN"
      ],
      "metadata": {
        "id": "_93-6Laz_bHZ"
      }
    },
    {
      "cell_type": "code",
      "source": [
        "from tensorflow import keras\n",
        "from tensorflow.keras import Sequential\n",
        "from tensorflow.keras.layers import Dense , Dropout"
      ],
      "metadata": {
        "id": "l6EAaY14_oX0"
      },
      "execution_count": null,
      "outputs": []
    },
    {
      "cell_type": "code",
      "source": [
        "model = Sequential()\n",
        "model.add(Dense(300 ,input_shape=(30000,), activation= 'relu',name='my_dense_layer'))\n",
        "model.add(Dense(100 ,activation= 'relu'))\n",
        "model.add(Dense(50 ,activation= 'relu'))\n",
        "model.add(Dense(1 ,activation= 'sigmoid'))\n",
        "model.summary()\n",
        "\n"
      ],
      "metadata": {
        "id": "HgfVj8Bv_32Y"
      },
      "execution_count": null,
      "outputs": []
    },
    {
      "cell_type": "code",
      "source": [
        "model.layers[0].name\n",
        "W1,b1 = model.get_layer('my_dense_layer').get_weights()\n",
        "print(W1.shape)\n",
        "W1"
      ],
      "metadata": {
        "id": "zCIeJ2FQA7G-"
      },
      "execution_count": null,
      "outputs": []
    },
    {
      "cell_type": "markdown",
      "source": [
        "Compiling"
      ],
      "metadata": {
        "id": "GWaSk2kbBXKo"
      }
    },
    {
      "cell_type": "code",
      "source": [
        "model.compile(loss=\"binary_crossentropy\",optimizer='adam',metrics=[\"accuracy\"])"
      ],
      "metadata": {
        "id": "QMGvlNXxBWfT"
      },
      "execution_count": null,
      "outputs": []
    },
    {
      "cell_type": "markdown",
      "source": [
        "Fitting"
      ],
      "metadata": {
        "id": "BugK7Qd9Bv6w"
      }
    },
    {
      "cell_type": "code",
      "source": [
        "from tensorflow.keras.callbacks import EarlyStopping\n",
        "\n",
        "callbacks = [EarlyStopping(monitor = 'val_loss',patience=5,restore_best_weights=True)]\n",
        "\n",
        "history1 = model.fit(X_train,y_train, batch_size= 100, epochs=50 ,validation_split=0.1, callbacks=callbacks,verbose=0)"
      ],
      "metadata": {
        "id": "jMCryO2HBuUV"
      },
      "execution_count": null,
      "outputs": []
    },
    {
      "cell_type": "code",
      "source": [
        "import pandas as pd\n",
        "import matplotlib.pyplot as plt\n",
        "pd.DataFrame(history1.history).plot(figsize=(10,6))\n",
        "plt.grid(True)\n",
        "plt.show()"
      ],
      "metadata": {
        "id": "gdrPRwPvCnqI"
      },
      "execution_count": null,
      "outputs": []
    },
    {
      "cell_type": "markdown",
      "source": [
        "Evaluation"
      ],
      "metadata": {
        "id": "phkK7b-JmrVq"
      }
    },
    {
      "cell_type": "code",
      "source": [
        "test_loss , test_acc = model.evaluate(X_test,y_test,verbose=False)\n",
        "print(f'Test accuracy for NN: {test_acc:.3f}')"
      ],
      "metadata": {
        "id": "letkuRIWmjr4"
      },
      "execution_count": null,
      "outputs": []
    },
    {
      "cell_type": "code",
      "source": [
        "from sklearn.metrics import confusion_matrix\n",
        "\n",
        "y_pred = (model.predict(X_test , verbose=0)>0.5).astype(int).reshape(y_test.shape)\n",
        "c_m  = pd.DataFrame(\n",
        "    confusion_matrix(y_test,y_pred),\n",
        "    index=['true:yes','true:no'],\n",
        "    columns=['pred:yes','pred:no'])\n",
        "print(c_m)\n"
      ],
      "metadata": {
        "id": "FpLpvp0NnBwA"
      },
      "execution_count": null,
      "outputs": []
    },
    {
      "cell_type": "markdown",
      "source": [
        "Tuning parameters: (Keras tuner)"
      ],
      "metadata": {
        "id": "CcosUnOroZuR"
      }
    },
    {
      "cell_type": "code",
      "source": [
        "!pip install scikeras"
      ],
      "metadata": {
        "id": "x_S8-V1wqRXN"
      },
      "execution_count": null,
      "outputs": []
    },
    {
      "cell_type": "code",
      "source": [
        "!pip install keras"
      ],
      "metadata": {
        "id": "a-7ig2aDqmqB"
      },
      "execution_count": null,
      "outputs": []
    },
    {
      "cell_type": "code",
      "source": [
        "from tensorflow.keras.layers import  InputLayer\n",
        "from tensorflow.keras.optimizers import SGD\n",
        "from scikeras.wrappers import KerasClassifier\n",
        "from scipy.stats import reciprocal\n",
        "from sklearn.model_selection import RandomizedSearchCV\n",
        "from tensorflow.keras.callbacks import EarlyStopping\n"
      ],
      "metadata": {
        "id": "AWDbF1rlqOGJ"
      },
      "execution_count": null,
      "outputs": []
    },
    {
      "cell_type": "code",
      "source": [
        "\n",
        "# Define malaria model builder function\n",
        "def malaria_model(n_hidden, n_neurons, learning_rate):\n",
        "    model = Sequential()\n",
        "\n",
        "    # Input layer: here input_shape=(30000,) means your data has 30,000 features per sample\n",
        "    model.add(InputLayer(input_shape=(30000,)))\n",
        "\n",
        "    # Hidden layers\n",
        "    for layer in range(n_hidden):\n",
        "        model.add(Dense(n_neurons, activation='relu'))\n",
        "\n",
        "    # Output layer (binary classification)\n",
        "    model.add(Dense(1, activation='sigmoid'))\n",
        "\n",
        "    # Compile model\n",
        "    model.compile(\n",
        "        loss=\"binary_crossentropy\",\n",
        "        optimizer=SGD(learning_rate=learning_rate),\n",
        "        metrics=[\"accuracy\"]\n",
        "    )\n",
        "\n",
        "\n",
        "    return model\n",
        "\n",
        "# Wrap the Keras model for scikit-learn compatibility\n",
        "keras_clf = KerasClassifier(\n",
        "    model=malaria_model,\n",
        "    n_hidden=1,\n",
        "    n_neurons=30,\n",
        "    learning_rate=3e-3,\n",
        "    epochs=50\n",
        ")\n",
        "\n",
        "\n",
        "params = {\n",
        "    'n_hidden': [0, 1, 2, 3],\n",
        "    'n_neurons': np.arange(1, 100),\n",
        "    'learning_rate': reciprocal(3e-4, 3e-2)\n",
        "}\n",
        "\n",
        "\n",
        "callbacks = [EarlyStopping(monitor = 'val_loss',patience=5,restore_best_weights=True)]\n",
        "\n",
        "history1 = model.fit(X_train,y_train, batch_size= 100, epochs=50 ,validation_split=0.1, callbacks=callbacks,verbose=0)\n",
        "# Randomized search with cross-validation\n",
        "rnd_search_cv = RandomizedSearchCV(estimator=keras_clf, param_distributions=params, n_iter=10, cv=5)\n",
        "# Fit the search\n",
        "rnd_search_cv.fit( X_train, y_train, validation_split=0.1,callbacks=callbacks)\n",
        "\n",
        "# Print results\n",
        "print(f\"Best test accuracy: {rnd_search_cv.best_score_:.2f}\")\n",
        "print(f\"Best params: {rnd_search_cv.best_params_}\")\n",
        "\n"
      ],
      "metadata": {
        "id": "s_YyuchXp2s6"
      },
      "execution_count": null,
      "outputs": []
    }
  ]
}